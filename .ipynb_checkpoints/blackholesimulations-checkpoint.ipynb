{
 "cells": [
  {
   "cell_type": "markdown",
   "metadata": {},
   "source": [
    "# Imports"
   ]
  },
  {
   "cell_type": "code",
   "execution_count": 21,
   "metadata": {},
   "outputs": [],
   "source": [
    "import matplotlib.pyplot as plt\n",
    "import numpy as np\n",
    "import pandas as pd"
   ]
  },
  {
   "cell_type": "markdown",
   "metadata": {},
   "source": [
    "# Arquivos com as curvas"
   ]
  },
  {
   "cell_type": "markdown",
   "metadata": {},
   "source": [
    "## Infocom"
   ]
  },
  {
   "cell_type": "code",
   "execution_count": 11,
   "metadata": {},
   "outputs": [],
   "source": [
    "infocom_maxprop = \"reports-22-12-19/infocom/maxprop/gnuplot/{}\"\n",
    "infocom_snw = \"reports-22-12-19/infocom/snw/gnuplot/{}\"\n",
    "infocom_snwcm = \"reports-22-12-19/infocom/snwcm/gnuplot/{}\"\n",
    "infocom_prophetv2 = \"reports-22-12-19/infocom/prophetv2/gnuplot/{}\"\n",
    "infocom_prophetv2cm = \"reports-22-12-19/infocom/prophetv2cm/gnuplot/{}\"\n",
    "infocom_files = [(infocom_maxprop, \"MaxProp\"), (infocom_snw, \"SnW\"), \n",
    "                 (infocom_snwcm, \"SnWCM\"), (infocom_prophetv2, \"ProphetV2\"), \n",
    "                 (infocom_prophetv2cm, \"ProphetV2CM\")]"
   ]
  },
  {
   "cell_type": "markdown",
   "metadata": {},
   "source": [
    "## Rollernet"
   ]
  },
  {
   "cell_type": "code",
   "execution_count": 12,
   "metadata": {},
   "outputs": [],
   "source": [
    "rollernet_maxprop = \"reports-22-12-19/rollernet/maxprop/gnuplot/{}\"\n",
    "rollernet_snw = \"reports-22-12-19/rollernet/snw/gnuplot/{}\"\n",
    "rollernet_snwcm = \"reports-22-12-19/rollernet/snwcm/gnuplot/{}\"\n",
    "rollernet_prophetv2 = \"reports-22-12-19/rollernet/prophetv2/gnuplot/{}\"\n",
    "rollernet_prophetv2cm = \"reports-22-12-19/rollernet/prophetv2cm/gnuplot/{}\"\n",
    "rollernet_files = [(rollernet_maxprop, \"MaxProp\"), (rollernet_snw, \"SnW\"), \n",
    "                 (rollernet_snwcm, \"SnWCM\"), (rollernet_prophetv2, \"ProphetV2\"), \n",
    "                 (rollernet_prophetv2cm, \"ProphetV2CM\")]"
   ]
  },
  {
   "cell_type": "code",
   "execution_count": 32,
   "metadata": {},
   "outputs": [],
   "source": [
    "métricas = [(\"delivery_rate.agregado.gnuplot\", \"Taxa de Entrega\"),\n",
    "            (\"overhead.agregado.gnuplot\", \"Sobrecarga\"),\n",
    "            (\"latency.agregado.gnuplot\", \"Latência (s)\")]\n",
    "m_delivery = métricas[0]\n",
    "m_overhead = métricas[1]\n",
    "m_latency = métricas[2]"
   ]
  },
  {
   "cell_type": "code",
   "execution_count": 18,
   "metadata": {},
   "outputs": [
    {
     "data": {
      "text/plain": [
       "'reports-22-12-19/rollernet/maxprop/gnuplot/delivery_rate.agregado.gnuplot'"
      ]
     },
     "execution_count": 18,
     "metadata": {},
     "output_type": "execute_result"
    }
   ],
   "source": [
    "curve = rollernet_maxprop.format(métricas[0][0])\n",
    "curve"
   ]
  },
  {
   "cell_type": "code",
   "execution_count": 29,
   "metadata": {},
   "outputs": [
    {
     "data": {
      "text/plain": [
       "array([[0.00000e+00, 9.91600e-01, 2.76440e-03],\n",
       "       [1.00000e+00, 9.91400e-01, 4.10526e-03],\n",
       "       [2.00000e+00, 9.90400e-01, 3.07594e-03],\n",
       "       [3.00000e+00, 9.90200e-01, 3.26601e-03],\n",
       "       [4.00000e+00, 9.91600e-01, 3.92107e-03],\n",
       "       [5.00000e+00, 9.87800e-01, 5.06732e-03]])"
      ]
     },
     "execution_count": 29,
     "metadata": {},
     "output_type": "execute_result"
    }
   ],
   "source": [
    "data = np.genfromtxt(curve) #gera um array multidimensional do arquivo\n",
    "data"
   ]
  },
  {
   "cell_type": "code",
   "execution_count": 28,
   "metadata": {},
   "outputs": [
    {
     "data": {
      "text/plain": [
       "array([0., 1., 2., 3., 4., 5.])"
      ]
     },
     "execution_count": 28,
     "metadata": {},
     "output_type": "execute_result"
    }
   ],
   "source": [
    "data[:,0] #pega a primeira coluna"
   ]
  },
  {
   "cell_type": "code",
   "execution_count": 26,
   "metadata": {},
   "outputs": [],
   "source": [
    "df=pd.DataFrame({'x': data[:,0], 'y': data[:,1], 'confidence': data[:,2]})"
   ]
  },
  {
   "cell_type": "code",
   "execution_count": 27,
   "metadata": {},
   "outputs": [
    {
     "data": {
      "text/html": [
       "<div>\n",
       "<style scoped>\n",
       "    .dataframe tbody tr th:only-of-type {\n",
       "        vertical-align: middle;\n",
       "    }\n",
       "\n",
       "    .dataframe tbody tr th {\n",
       "        vertical-align: top;\n",
       "    }\n",
       "\n",
       "    .dataframe thead th {\n",
       "        text-align: right;\n",
       "    }\n",
       "</style>\n",
       "<table border=\"1\" class=\"dataframe\">\n",
       "  <thead>\n",
       "    <tr style=\"text-align: right;\">\n",
       "      <th></th>\n",
       "      <th>x</th>\n",
       "      <th>y</th>\n",
       "      <th>confidence</th>\n",
       "    </tr>\n",
       "  </thead>\n",
       "  <tbody>\n",
       "    <tr>\n",
       "      <th>0</th>\n",
       "      <td>0.0</td>\n",
       "      <td>0.9916</td>\n",
       "      <td>0.002764</td>\n",
       "    </tr>\n",
       "    <tr>\n",
       "      <th>1</th>\n",
       "      <td>1.0</td>\n",
       "      <td>0.9914</td>\n",
       "      <td>0.004105</td>\n",
       "    </tr>\n",
       "    <tr>\n",
       "      <th>2</th>\n",
       "      <td>2.0</td>\n",
       "      <td>0.9904</td>\n",
       "      <td>0.003076</td>\n",
       "    </tr>\n",
       "    <tr>\n",
       "      <th>3</th>\n",
       "      <td>3.0</td>\n",
       "      <td>0.9902</td>\n",
       "      <td>0.003266</td>\n",
       "    </tr>\n",
       "    <tr>\n",
       "      <th>4</th>\n",
       "      <td>4.0</td>\n",
       "      <td>0.9916</td>\n",
       "      <td>0.003921</td>\n",
       "    </tr>\n",
       "    <tr>\n",
       "      <th>5</th>\n",
       "      <td>5.0</td>\n",
       "      <td>0.9878</td>\n",
       "      <td>0.005067</td>\n",
       "    </tr>\n",
       "  </tbody>\n",
       "</table>\n",
       "</div>"
      ],
      "text/plain": [
       "     x       y  confidence\n",
       "0  0.0  0.9916    0.002764\n",
       "1  1.0  0.9914    0.004105\n",
       "2  2.0  0.9904    0.003076\n",
       "3  3.0  0.9902    0.003266\n",
       "4  4.0  0.9916    0.003921\n",
       "5  5.0  0.9878    0.005067"
      ]
     },
     "execution_count": 27,
     "metadata": {},
     "output_type": "execute_result"
    }
   ],
   "source": [
    "df"
   ]
  },
  {
   "cell_type": "markdown",
   "metadata": {},
   "source": [
    "# Rollernet"
   ]
  },
  {
   "cell_type": "markdown",
   "metadata": {},
   "source": [
    "## Taxa de Entrega"
   ]
  },
  {
   "cell_type": "code",
   "execution_count": 33,
   "metadata": {},
   "outputs": [],
   "source": [
    "curvas = []"
   ]
  },
  {
   "cell_type": "code",
   "execution_count": 68,
   "metadata": {},
   "outputs": [],
   "source": [
    "for f in rollernet_files:\n",
    "    file_location = f[0].format(m_delivery[0])\n",
    "    label = f[1]\n",
    "    data = np.genfromtxt(file_location)\n",
    "    df=pd.DataFrame({'x': data[:,0], label: data[:,1], 'confidence': data[:,2]})\n",
    "    curvas.append(df)"
   ]
  },
  {
   "cell_type": "code",
   "execution_count": 36,
   "metadata": {},
   "outputs": [
    {
     "data": {
      "text/plain": [
       "[   MaxProp       y  confidence\n",
       " 0      0.0  0.9916    0.002764\n",
       " 1      1.0  0.9914    0.004105\n",
       " 2      2.0  0.9904    0.003076\n",
       " 3      3.0  0.9902    0.003266\n",
       " 4      4.0  0.9916    0.003921\n",
       " 5      5.0  0.9878    0.005067,    SnW       y  confidence\n",
       " 0  0.0  0.8792    0.006189\n",
       " 1  1.0  0.8692    0.013064\n",
       " 2  2.0  0.8696    0.013127\n",
       " 3  3.0  0.8538    0.007584\n",
       " 4  4.0  0.8662    0.011295\n",
       " 5  5.0  0.8628    0.012495,    SnWCM       y  confidence\n",
       " 0    0.0  0.8794    0.006400\n",
       " 1    1.0  0.8716    0.011462\n",
       " 2    2.0  0.8734    0.012939\n",
       " 3    3.0  0.8582    0.006793\n",
       " 4    4.0  0.8714    0.012066\n",
       " 5    5.0  0.8660    0.013353,    ProphetV2       y  confidence\n",
       " 0        0.0  0.6358    0.010843\n",
       " 1        1.0  0.6320    0.013673\n",
       " 2        2.0  0.6340    0.013370\n",
       " 3        3.0  0.6166    0.010834\n",
       " 4        4.0  0.6418    0.015708\n",
       " 5        5.0  0.6322    0.011071,    ProphetV2CM       y  confidence\n",
       " 0          0.0  0.6680    0.015306\n",
       " 1          1.0  0.6574    0.015366\n",
       " 2          2.0  0.6496    0.013502\n",
       " 3          3.0  0.6498    0.009761\n",
       " 4          4.0  0.6550    0.012238\n",
       " 5          5.0  0.6580    0.014960]"
      ]
     },
     "execution_count": 36,
     "metadata": {},
     "output_type": "execute_result"
    }
   ],
   "source": [
    "curvas"
   ]
  },
  {
   "cell_type": "code",
   "execution_count": 69,
   "metadata": {},
   "outputs": [
    {
     "name": "stderr",
     "output_type": "stream",
     "text": [
      "/home/juliano/Documentos/sbrc2020/venv/lib/python3.6/site-packages/ipykernel_launcher.py:8: RuntimeWarning: Second argument 'y' is ambiguous: could be a color spec but is in data; using as data.  Either rename the entry in data or use three arguments to plot.\n",
      "  \n"
     ]
    },
    {
     "ename": "IndexError",
     "evalue": "tuple index out of range",
     "output_type": "error",
     "traceback": [
      "\u001b[0;31m---------------------------------------------------------------------------\u001b[0m",
      "\u001b[0;31mIndexError\u001b[0m                                Traceback (most recent call last)",
      "\u001b[0;32m<ipython-input-69-5bef9b42fb8a>\u001b[0m in \u001b[0;36m<module>\u001b[0;34m\u001b[0m\n\u001b[1;32m      5\u001b[0m \u001b[0;34m\u001b[0m\u001b[0m\n\u001b[1;32m      6\u001b[0m \u001b[0;32mfor\u001b[0m \u001b[0mnum\u001b[0m\u001b[0;34m,\u001b[0m \u001b[0mcurva\u001b[0m \u001b[0;32min\u001b[0m \u001b[0menumerate\u001b[0m\u001b[0;34m(\u001b[0m\u001b[0mcurvas\u001b[0m\u001b[0;34m)\u001b[0m\u001b[0;34m:\u001b[0m\u001b[0;34m\u001b[0m\u001b[0;34m\u001b[0m\u001b[0m\n\u001b[0;32m----> 7\u001b[0;31m     plt.plot(curva.columns.values[0], 'y', data=curva, marker=styles['markers'][num], markerfacecolor='blue',\n\u001b[0m\u001b[1;32m      8\u001b[0m              markersize=12, color='skyblue', linewidth=4)\n\u001b[1;32m      9\u001b[0m \u001b[0mplt\u001b[0m\u001b[0;34m.\u001b[0m\u001b[0mlegend\u001b[0m\u001b[0;34m(\u001b[0m\u001b[0;34m)\u001b[0m\u001b[0;34m\u001b[0m\u001b[0;34m\u001b[0m\u001b[0m\n",
      "\u001b[0;31mIndexError\u001b[0m: tuple index out of range"
     ]
    },
    {
     "data": {
      "image/png": "[encoded data removed]",
      "text/plain": [
       "<Figure size 432x288 with 1 Axes>"
      ]
     },
     "metadata": {
      "needs_background": "light"
     },
     "output_type": "display_data"
    }
   ],
   "source": [
    "styles = {'markers':('o','x','+','*','d'),\n",
    "          'colors' : ('red','green', 'blue', 'black', 'yellow'),\n",
    "          'linestyles' : ('solid','dashed','dotted','dashdot','solid')\n",
    "         }\n",
    "\n",
    "for num, curva in enumerate(curvas):\n",
    "    plt.plot('x', curva.columns.values[0], data=curva, marker=styles['markers'][num], markerfacecolor='blue',\n",
    "             markersize=12, color='skyblue', linewidth=4)\n",
    "plt.legend()"
   ]
  },
  {
   "cell_type": "code",
   "execution_count": null,
   "metadata": {},
   "outputs": [],
   "source": [
    "\n"
   ]
  }
 ],
 "metadata": {
  "kernelspec": {
   "display_name": "Python 3",
   "language": "python",
   "name": "python3"
  },
  "language_info": {
   "codemirror_mode": {
    "name": "ipython",
    "version": 3
   },
   "file_extension": ".py",
   "mimetype": "text/x-python",
   "name": "python",
   "nbconvert_exporter": "python",
   "pygments_lexer": "ipython3",
   "version": "3.6.9"
  }
 },
 "nbformat": 4,
 "nbformat_minor": 2
}
